{
 "cells": [
  {
   "cell_type": "code",
   "execution_count": null,
   "metadata": {
    "collapsed": true
   },
   "outputs": [],
   "source": [
    "import matplotlib.pyplot as plt\n",
    "import numpy as np\n",
    "import pandas as pd\n",
    "import seaborn as sns\n",
    "% matplotlib inline"
   ]
  },
  {
   "cell_type": "code",
   "execution_count": null,
   "metadata": {
    "collapsed": false
   },
   "outputs": [],
   "source": [
    "# plt.rc('text', usetex=True)\n",
    "# plt.rc('font', family='serif')\n",
    "# plt.rc('font', serif='Palatino')\n"
   ]
  },
  {
   "cell_type": "code",
   "execution_count": null,
   "metadata": {
    "collapsed": true
   },
   "outputs": [],
   "source": [
    "years = [2012, 2013, 2014]"
   ]
  },
  {
   "cell_type": "code",
   "execution_count": null,
   "metadata": {
    "collapsed": false
   },
   "outputs": [],
   "source": [
    "df = pd.read_csv('lucentisavastin.csv')\n",
    "del df['year2']\n",
    "df.head()"
   ]
  },
  {
   "cell_type": "code",
   "execution_count": null,
   "metadata": {
    "collapsed": true
   },
   "outputs": [],
   "source": [
    "providers = {2012: {}, 2013: {}, 2014: {}}\n",
    "def process(row):\n",
    "    npi = row['npi']\n",
    "    hcpcs_code = row['hcpcs_code']\n",
    "    year = row['year']\n",
    "    if npi not in providers[year]:\n",
    "        providers[year][npi] = {'J2778': 0, 'J9035': 0, 'sum': 0}\n",
    "    providers[year][npi][hcpcs_code] += row['bene_unique_cnt']\n",
    "    providers[year][npi]['sum'] += row['bene_unique_cnt']"
   ]
  },
  {
   "cell_type": "code",
   "execution_count": null,
   "metadata": {
    "collapsed": false
   },
   "outputs": [],
   "source": [
    "a = df.apply(process, axis=1)"
   ]
  },
  {
   "cell_type": "code",
   "execution_count": null,
   "metadata": {
    "collapsed": false
   },
   "outputs": [],
   "source": []
  },
  {
   "cell_type": "code",
   "execution_count": null,
   "metadata": {
    "collapsed": false
   },
   "outputs": [],
   "source": [
    "lucentis_percentages = {2012: {}, 2013: {}, 2014: {}}\n",
    "def percentage(row):\n",
    "    npi = row['npi']\n",
    "    year = row['year']\n",
    "    lucentis_percentages[year][npi] = providers[year][npi]['J2778'] * 1. / providers[year][npi]['sum']\n",
    "\n",
    "a = df.apply(percentage, axis=1)\n",
    "plt.clf()\n",
    "for year in years:\n",
    "    plt.plot(sorted(lucentis_percentages[year].values()), label=str(year))\n",
    "    plt.axvline(x=len(lucentis_percentages[year]), color='C{}'.format(year - 2012))\n",
    "plt.legend(fancybox=True, shadow=True)\n",
    "plt.xlabel('Ophthalmologists treating wet AMD with Lucentis and/or Avastin')\n",
    "plt.ylabel('Lucentis patient share')\n",
    "plt.savefig('lucentispatientshare.pdf')"
   ]
  },
  {
   "cell_type": "code",
   "execution_count": null,
   "metadata": {
    "collapsed": false,
    "scrolled": true
   },
   "outputs": [],
   "source": [
    "data = []\n",
    "lucentis_prop = {}\n",
    "plt.clf()\n",
    "for year in years:\n",
    "    year_df = pd.DataFrame.from_dict(providers[year], orient='index')\n",
    "    year_df = year_df[year_df['sum'] >= 200]\n",
    "    year_df['lucentis_prop'] = year_df['J2778'] * 1. / year_df['sum']\n",
    "    del year_df['sum']\n",
    "    year_df['J2778'] = year_df['J2778'] > 0\n",
    "    year_df['J9035'] = year_df['J9035'] > 0\n",
    "#     print year\n",
    "#     print year_df.groupby(['J9035', 'J2778']).size()\n",
    "    data.append(list(year_df.groupby(['J9035', 'J2778']).size()))\n",
    "    lucentis_prop[year] = year_df['lucentis_prop']\n",
    "    plt.plot(sorted(list(lucentis_prop[year])), label=str(year))\n",
    "    plt.axvline(x=len(lucentis_prop[year]) + int(year == 2013), color='C{}'.format(year - 2012))\n",
    "\n",
    "final_counts = pd.DataFrame(data, index=years, columns=['Lucentis (J2778) only', \n",
    "                                                        'Avastin (J9035) only', \n",
    "                                                        'Both'])\n",
    "\n",
    "plt.legend(fancybox=True, shadow=True)\n",
    "plt.xlabel('Ophthalmologists with more than 200 patients treated with Lucentis and/or Avastin')\n",
    "plt.ylabel('Lucentis patient share')\n",
    "plt.savefig('lucentispatientshare200.pdf')"
   ]
  },
  {
   "cell_type": "code",
   "execution_count": null,
   "metadata": {
    "collapsed": false
   },
   "outputs": [],
   "source": [
    "len(lucentis_prop[2012]), len(lucentis_prop[2013])"
   ]
  },
  {
   "cell_type": "code",
   "execution_count": null,
   "metadata": {
    "collapsed": false
   },
   "outputs": [],
   "source": [
    "final_props = final_counts.div(final_counts.sum(axis=1), axis=0)"
   ]
  },
  {
   "cell_type": "code",
   "execution_count": null,
   "metadata": {
    "collapsed": true
   },
   "outputs": [],
   "source": [
    "x = range(3)"
   ]
  },
  {
   "cell_type": "code",
   "execution_count": null,
   "metadata": {
    "collapsed": false
   },
   "outputs": [],
   "source": [
    "plt.clf()\n",
    "plt.bar(x, \n",
    "        final_counts['Both'], \n",
    "        color='#56a0d2', \n",
    "        label='Mix')\n",
    "plt.bar(x, \n",
    "        final_counts['Avastin (J9035) only'], \n",
    "        color='#ffc000', \n",
    "        label='Avastin (J9035) only',\n",
    "        bottom=final_counts['Both'])\n",
    "plt.bar(x, \n",
    "        final_counts['Lucentis (J2778) only'], \n",
    "        color='#99cc00', \n",
    "        label='Lucentis (J2778) only',\n",
    "        bottom=final_counts['Both'] + final_counts['Avastin (J9035) only'])\n",
    "\n",
    "plt.xticks(x, years)\n",
    "plt.ylabel('Number of patients')\n",
    "plt.legend(loc='upper center', bbox_to_anchor=(0.5, -0.1),\n",
    "          fancybox=True, shadow=True, ncol=3)\n",
    "plt.title('Changes in Avastin and Lucentis Use, 2012-2014')\n",
    "plt.savefig('lucentisavastinplot.pdf', bbox_inches='tight', pad_inches=0.2)"
   ]
  },
  {
   "cell_type": "code",
   "execution_count": null,
   "metadata": {
    "collapsed": false
   },
   "outputs": [],
   "source": [
    "with open('lucentisavastindata.tex', 'wb') as f:\n",
    "    f.write((100 * final_props).to_latex(float_format='%.1f', column_format='cccc'))"
   ]
  },
  {
   "cell_type": "code",
   "execution_count": null,
   "metadata": {
    "collapsed": true
   },
   "outputs": [],
   "source": []
  },
  {
   "cell_type": "code",
   "execution_count": null,
   "metadata": {
    "collapsed": true
   },
   "outputs": [],
   "source": []
  }
 ],
 "metadata": {
  "kernelspec": {
   "display_name": "Python 2",
   "language": "python",
   "name": "python2"
  },
  "language_info": {
   "codemirror_mode": {
    "name": "ipython",
    "version": 2
   },
   "file_extension": ".py",
   "mimetype": "text/x-python",
   "name": "python",
   "nbconvert_exporter": "python",
   "pygments_lexer": "ipython2",
   "version": "2.7.13"
  }
 },
 "nbformat": 4,
 "nbformat_minor": 2
}
