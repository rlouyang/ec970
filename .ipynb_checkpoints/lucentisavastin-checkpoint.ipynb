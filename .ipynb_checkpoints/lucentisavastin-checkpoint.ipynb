{
 "cells": [
  {
   "cell_type": "code",
   "execution_count": 75,
   "metadata": {
    "collapsed": true
   },
   "outputs": [],
   "source": [
    "import matplotlib.pyplot as plt\n",
    "import numpy as np\n",
    "import pandas as pd\n",
    "% matplotlib inline"
   ]
  },
  {
   "cell_type": "code",
   "execution_count": 56,
   "metadata": {
    "collapsed": false
   },
   "outputs": [],
   "source": [
    "df = pd.read_csv('lucentisavastin.csv')\n",
    "df.head()\n",
    "del df['year2']"
   ]
  },
  {
   "cell_type": "code",
   "execution_count": 57,
   "metadata": {
    "collapsed": false,
    "scrolled": true
   },
   "outputs": [
    {
     "data": {
      "text/html": [
       "<div>\n",
       "<table border=\"1\" class=\"dataframe\">\n",
       "  <thead>\n",
       "    <tr style=\"text-align: right;\">\n",
       "      <th></th>\n",
       "      <th>npi</th>\n",
       "      <th>hcpcs_code</th>\n",
       "      <th>line_srvc_cnt</th>\n",
       "      <th>bene_unique_cnt</th>\n",
       "      <th>bene_day_srvc_cnt</th>\n",
       "      <th>year</th>\n",
       "    </tr>\n",
       "  </thead>\n",
       "  <tbody>\n",
       "    <tr>\n",
       "      <th>0</th>\n",
       "      <td>1366492365</td>\n",
       "      <td>J2778</td>\n",
       "      <td>865.0</td>\n",
       "      <td>57</td>\n",
       "      <td>183</td>\n",
       "      <td>2014</td>\n",
       "    </tr>\n",
       "    <tr>\n",
       "      <th>1</th>\n",
       "      <td>1245231216</td>\n",
       "      <td>J2778</td>\n",
       "      <td>1955.0</td>\n",
       "      <td>82</td>\n",
       "      <td>357</td>\n",
       "      <td>2012</td>\n",
       "    </tr>\n",
       "    <tr>\n",
       "      <th>2</th>\n",
       "      <td>1205832615</td>\n",
       "      <td>J2778</td>\n",
       "      <td>2498.0</td>\n",
       "      <td>123</td>\n",
       "      <td>502</td>\n",
       "      <td>2012</td>\n",
       "    </tr>\n",
       "    <tr>\n",
       "      <th>3</th>\n",
       "      <td>1083871974</td>\n",
       "      <td>J2778</td>\n",
       "      <td>728.0</td>\n",
       "      <td>42</td>\n",
       "      <td>168</td>\n",
       "      <td>2013</td>\n",
       "    </tr>\n",
       "    <tr>\n",
       "      <th>4</th>\n",
       "      <td>1245243013</td>\n",
       "      <td>J2778</td>\n",
       "      <td>2670.0</td>\n",
       "      <td>98</td>\n",
       "      <td>534</td>\n",
       "      <td>2012</td>\n",
       "    </tr>\n",
       "  </tbody>\n",
       "</table>\n",
       "</div>"
      ],
      "text/plain": [
       "          npi hcpcs_code  line_srvc_cnt  bene_unique_cnt  bene_day_srvc_cnt  \\\n",
       "0  1366492365      J2778          865.0               57                183   \n",
       "1  1245231216      J2778         1955.0               82                357   \n",
       "2  1205832615      J2778         2498.0              123                502   \n",
       "3  1083871974      J2778          728.0               42                168   \n",
       "4  1245243013      J2778         2670.0               98                534   \n",
       "\n",
       "   year  \n",
       "0  2014  \n",
       "1  2012  \n",
       "2  2012  \n",
       "3  2013  \n",
       "4  2012  "
      ]
     },
     "execution_count": 57,
     "metadata": {},
     "output_type": "execute_result"
    }
   ],
   "source": [
    "df.head()"
   ]
  },
  {
   "cell_type": "code",
   "execution_count": 63,
   "metadata": {
    "collapsed": true
   },
   "outputs": [],
   "source": [
    "providers = {2012: {}, 2013: {}, 2014: {}}\n",
    "def process(row):\n",
    "    npi = row['npi']\n",
    "    hcpcs_code = row['hcpcs_code']\n",
    "    year = row['year']\n",
    "    if npi not in providers[year]:\n",
    "        providers[year][npi] = {'J2778': 0, 'J9035': 0, 'sum': 0}\n",
    "    providers[year][npi][hcpcs_code] += row['bene_unique_cnt']\n",
    "    providers[year][npi]['sum'] += row['bene_unique_cnt']"
   ]
  },
  {
   "cell_type": "code",
   "execution_count": 64,
   "metadata": {
    "collapsed": false
   },
   "outputs": [],
   "source": [
    "a = df.apply(process, axis=1)"
   ]
  },
  {
   "cell_type": "code",
   "execution_count": 82,
   "metadata": {
    "collapsed": false,
    "scrolled": true
   },
   "outputs": [],
   "source": [
    "data = []\n",
    "for year in [2012, 2013, 2014]:\n",
    "    year_df = pd.DataFrame.from_dict(providers[year], orient='index')\n",
    "    year_df = year_df[year_df['sum'] >= 200]\n",
    "    del year_df['sum']\n",
    "    year_df['J2778'] = year_df['J2778'] > 0\n",
    "    year_df['J9035'] = year_df['J9035'] > 0\n",
    "#     print year\n",
    "#     print year_df.groupby(['J9035', 'J2778']).size()\n",
    "    data.append(list(year_df.groupby(['J9035', 'J2778']).size()))\n",
    "final_counts = pd.DataFrame(data, index=[2012, 2013, 2014], columns=['Lucentis (J2778) only', \n",
    "                                                                     'Avastin (J9035) only', \n",
    "                                                                     'Both'])"
   ]
  },
  {
   "cell_type": "code",
   "execution_count": 83,
   "metadata": {
    "collapsed": false
   },
   "outputs": [],
   "source": [
    "final_props = final_counts.div(final_counts.sum(axis=1), axis=0)"
   ]
  },
  {
   "cell_type": "code",
   "execution_count": 84,
   "metadata": {
    "collapsed": true
   },
   "outputs": [],
   "source": [
    "x = range(3)"
   ]
  },
  {
   "cell_type": "code",
   "execution_count": 117,
   "metadata": {
    "collapsed": false
   },
   "outputs": [
    {
     "data": {
      "image/png": "[encoded data removed]",
      "text/plain": [
       "<matplotlib.figure.Figure at 0x11487d410>"
      ]
     },
     "metadata": {},
     "output_type": "display_data"
    }
   ],
   "source": [
    "plt.bar(x, \n",
    "        final_counts['Both'], \n",
    "        color='#56a0d2', \n",
    "        label='Mix')\n",
    "plt.bar(x, \n",
    "        final_counts['Avastin (J9035) only'], \n",
    "        color='#ffc000', \n",
    "        label='Avastin (J9035) only',\n",
    "        bottom=final_counts['Both'])\n",
    "plt.bar(x, \n",
    "        final_counts['Lucentis (J2778) only'], \n",
    "        color='#99cc00', \n",
    "        label='Lucentis (J2778) only',\n",
    "        bottom=final_counts['Both'] + final_counts['Avastin (J9035) only'])\n",
    "\n",
    "plt.xticks(x, [2012, 2013, 2014])\n",
    "plt.ylabel('Number of patients')\n",
    "plt.legend(loc='upper center', bbox_to_anchor=(0.5, -0.1),\n",
    "          fancybox=True, shadow=True, ncol=3)\n",
    "plt.title('Changes in Avastin and Lucentis Use, 2012-2014')\n",
    "plt.savefig('lucentisavastinplot.pdf', bbox_inches='tight', pad_inches=0.2)"
   ]
  },
  {
   "cell_type": "code",
   "execution_count": 116,
   "metadata": {
    "collapsed": false
   },
   "outputs": [],
   "source": [
    "with open('lucentisavastindata.tex', 'wb') as f:\n",
    "    f.write((100 * final_props).to_latex(float_format='%.1f', column_format='cccc'))"
   ]
  },
  {
   "cell_type": "code",
   "execution_count": null,
   "metadata": {
    "collapsed": true
   },
   "outputs": [],
   "source": []
  },
  {
   "cell_type": "code",
   "execution_count": null,
   "metadata": {
    "collapsed": true
   },
   "outputs": [],
   "source": []
  }
 ],
 "metadata": {
  "kernelspec": {
   "display_name": "Python 2",
   "language": "python",
   "name": "python2"
  },
  "language_info": {
   "codemirror_mode": {
    "name": "ipython",
    "version": 2
   },
   "file_extension": ".py",
   "mimetype": "text/x-python",
   "name": "python",
   "nbconvert_exporter": "python",
   "pygments_lexer": "ipython2",
   "version": "2.7.13"
  }
 },
 "nbformat": 4,
 "nbformat_minor": 2
}
